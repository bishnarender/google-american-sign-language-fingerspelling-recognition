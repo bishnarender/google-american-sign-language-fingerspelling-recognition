{
 "cells": [
  {
   "cell_type": "code",
   "execution_count": null,
   "id": "6e79c3ef",
   "metadata": {},
   "outputs": [],
   "source": []
  },
  {
   "cell_type": "code",
   "execution_count": null,
   "id": "0c6de78f",
   "metadata": {},
   "outputs": [],
   "source": []
  },
  {
   "cell_type": "code",
   "execution_count": 4,
   "id": "e3f1e965",
   "metadata": {},
   "outputs": [
    {
     "name": "stdout",
     "output_type": "stream",
     "text": [
      "seed 843234\n",
      "https://app.neptune.ai/common/quickstarts/e/QUI-94315\n",
      "Neptune system id : QUI-94315\n",
      "Neptune URL       : https://app.neptune.ai/common/quickstarts/e/QUI-94315\n",
      "new shape 48764, dropped 1546 sequences shorter than min_seq_len 15\n",
      "n_params: 2515040\n",
      "Train epoch 0: 100%|████████████████████████| 1524/1524 [08:59<00:00,  2.83it/s]\n",
      "Train epoch 1: 100%|████████████████████████| 1524/1524 [08:59<00:00,  2.83it/s]\n",
      "Train epoch 2: 100%|████████████████████████| 1524/1524 [09:11<00:00,  2.76it/s]\n",
      "Train epoch 3: 100%|████████████████████████| 1524/1524 [09:05<00:00,  2.79it/s]\n",
      "Train epoch 4: 100%|████████████████████████| 1524/1524 [09:00<00:00,  2.82it/s]\n",
      "Train epoch 5: 100%|████████████████████████| 1524/1524 [08:57<00:00,  2.83it/s]\n",
      "Train epoch 6: 100%|████████████████████████| 1524/1524 [09:00<00:00,  2.82it/s]\n",
      "Train epoch 7: 100%|████████████████████████| 1524/1524 [09:00<00:00,  2.82it/s]\n",
      "Train epoch 8: 100%|████████████████████████| 1524/1524 [08:56<00:00,  2.84it/s]\n",
      "Train epoch 9: 100%|████████████████████████| 1524/1524 [08:55<00:00,  2.84it/s]\n",
      "Val epoch 9: 100%|████████████████████████████| 529/529 [01:41<00:00,  5.23it/s]\n",
      "val_score: 0.646\n",
      "val_score_pp: 0.649\n",
      "Train epoch 10: 100%|███████████████████████| 1524/1524 [08:54<00:00,  2.85it/s]\n",
      "Train epoch 11: 100%|███████████████████████| 1524/1524 [08:55<00:00,  2.85it/s]\n",
      "Train epoch 12: 100%|███████████████████████| 1524/1524 [08:54<00:00,  2.85it/s]\n",
      "Train epoch 13: 100%|███████████████████████| 1524/1524 [08:54<00:00,  2.85it/s]\n",
      "Train epoch 14:   3%|▋                        | 45/1524 [00:24<08:41,  2.83it/s]^C\n",
      "Train epoch 14:   3%|▋                        | 45/1524 [00:25<13:52,  1.78it/s]\n",
      "Traceback (most recent call last):\n",
      "  File \"train.py\", line 209, in <module>\n",
      "    loss.backward()\n",
      "  File \"/home/na/miniconda3/envs/base_4/lib/python3.8/site-packages/torch/_tensor.py\", line 487, in backward\n",
      "    torch.autograd.backward(\n",
      "  File \"/home/na/miniconda3/envs/base_4/lib/python3.8/site-packages/torch/autograd/__init__.py\", line 200, in backward\n",
      "    Variable._execution_engine.run_backward(  # Calls into the C++ engine to run the backward pass\n",
      "KeyboardInterrupt\n",
      "Shutting down background jobs, please wait a moment...\n"
     ]
    }
   ],
   "source": [
    "!python train.py -C cfg_1\n",
    "\n",
    "# first float value is mask.mean() from postprocess.\n",
    "# val_score => validation score (i.e., levensthein distance) \n",
    "# val_score_pp => validation score (i.e., levensthein distance) after post-process (i.e., with dummy phrases)."
   ]
  },
  {
   "cell_type": "code",
   "execution_count": null,
   "id": "aba102df",
   "metadata": {},
   "outputs": [],
   "source": []
  },
  {
   "cell_type": "code",
   "execution_count": 3,
   "id": "3b080c2a",
   "metadata": {},
   "outputs": [
    {
     "name": "stdout",
     "output_type": "stream",
     "text": [
      "getting oofs from\n",
      "[['datamount/weights/cfg_1/fold0/val_data_seed843234.pth', 'datamount/weights/cfg_1/fold0/val_data_seed79464.pth', 'datamount/weights/cfg_1/fold0/val_data_seed981480.pth'], ['datamount/weights/cfg_1/fold1/val_data_seed503260.pth', 'datamount/weights/cfg_1/fold1/val_data_seed626239.pth'], ['datamount/weights/cfg_1/fold2/val_data_seed959467.pth', 'datamount/weights/cfg_1/fold2/val_data_seed664014.pth'], ['datamount/weights/cfg_1/fold3/val_data_seed43021.pth', 'datamount/weights/cfg_1/fold3/val_data_seed798547.pth']]\n",
      "100%|█████████████████████████████████| 16898/16898 [00:00<00:00, 220759.72it/s]\n",
      "100%|█████████████████████████████████| 16898/16898 [00:00<00:00, 221513.85it/s]\n",
      "100%|█████████████████████████████████| 16898/16898 [00:00<00:00, 224528.53it/s]\n",
      "100%|█████████████████████████████████| 16819/16819 [00:00<00:00, 209290.25it/s]\n",
      "100%|█████████████████████████████████| 16819/16819 [00:00<00:00, 228929.70it/s]\n",
      "100%|█████████████████████████████████| 16831/16831 [00:00<00:00, 227181.34it/s]\n",
      "100%|█████████████████████████████████| 16831/16831 [00:00<00:00, 225604.42it/s]\n",
      "100%|█████████████████████████████████| 16660/16660 [00:00<00:00, 208473.87it/s]\n",
      "100%|█████████████████████████████████| 16660/16660 [00:00<00:00, 227745.51it/s]\n"
     ]
    }
   ],
   "source": [
    "!python scripts/get_train_folded_oof_supp.py"
   ]
  },
  {
   "cell_type": "code",
   "execution_count": null,
   "id": "f097419c",
   "metadata": {},
   "outputs": [],
   "source": []
  },
  {
   "cell_type": "code",
   "execution_count": null,
   "id": "2c0f58d7",
   "metadata": {},
   "outputs": [],
   "source": []
  },
  {
   "cell_type": "code",
   "execution_count": 2,
   "id": "e882ff97",
   "metadata": {},
   "outputs": [
    {
     "name": "stdout",
     "output_type": "stream",
     "text": [
      "seed 911401\n",
      "https://app.neptune.ai/common/quickstarts/e/QUI-94320\n",
      "Neptune system id : QUI-94320\n",
      "Neptune URL       : https://app.neptune.ai/common/quickstarts/e/QUI-94320\n",
      "new shape 84502, dropped 0 sequences shorter than min_seq_len 1\n",
      "n_params: 9736305\n",
      "Train epoch 0: 100%|████████████████████████| 1585/1585 [10:52<00:00,  2.43it/s]\n",
      "Train epoch 1: 100%|████████████████████████| 1585/1585 [11:27<00:00,  2.30it/s]\n",
      "Train epoch 2: 100%|████████████████████████| 1585/1585 [10:45<00:00,  2.46it/s]\n",
      "Train epoch 3: 100%|████████████████████████| 1585/1585 [10:42<00:00,  2.47it/s]\n",
      "Train epoch 4: 100%|████████████████████████| 1585/1585 [10:43<00:00,  2.46it/s]\n",
      "Train epoch 5: 100%|████████████████████████| 1585/1585 [10:45<00:00,  2.46it/s]\n",
      "Train epoch 6: 100%|████████████████████████| 1585/1585 [10:44<00:00,  2.46it/s]\n",
      "Train epoch 7: 100%|████████████████████████| 1585/1585 [10:40<00:00,  2.48it/s]\n",
      "Train epoch 8:  77%|██████████████████▍     | 1216/1585 [08:12<02:30,  2.45it/s]^C\n",
      "Train epoch 8:  77%|██████████████████▍     | 1216/1585 [08:12<02:29,  2.47it/s]\n",
      "Traceback (most recent call last):\n",
      "  File \"train.py\", line 197, in <module>\n",
      "    scaler.scale(loss).backward()\n",
      "  File \"/home/na/miniconda3/envs/base_4/lib/python3.8/site-packages/torch/_tensor.py\", line 487, in backward\n",
      "    torch.autograd.backward(\n",
      "  File \"/home/na/miniconda3/envs/base_4/lib/python3.8/site-packages/torch/autograd/__init__.py\", line 200, in backward\n",
      "    Variable._execution_engine.run_backward(  # Calls into the C++ engine to run the backward pass\n",
      "KeyboardInterrupt\n",
      "Shutting down background jobs, please wait a moment...\n"
     ]
    }
   ],
   "source": [
    "!python train.py -C cfg_2\n",
    "\n",
    "# first float value is mask.mean() from postprocess.\n",
    "# val_score => validation score (i.e., levensthein distance) \n",
    "# val_score_pp => validation score (i.e., levensthein distance) after post-process (i.e., with dummy phrases)."
   ]
  },
  {
   "cell_type": "code",
   "execution_count": null,
   "id": "4e9c8c93",
   "metadata": {},
   "outputs": [],
   "source": []
  },
  {
   "cell_type": "code",
   "execution_count": 21,
   "id": "b527bc3a",
   "metadata": {},
   "outputs": [
    {
     "name": "stdout",
     "output_type": "stream",
     "text": [
      "2023-09-20 10:52:08.348916: I tensorflow/core/platform/cpu_feature_guard.cc:182] This TensorFlow binary is optimized to use available CPU instructions in performance-critical operations.\n",
      "To enable the following instructions: AVX2 FMA, in other operations, rebuild TensorFlow with the appropriate compiler flags.\n",
      "2023-09-20 10:52:08.954956: W tensorflow/compiler/tf2tensorrt/utils/py_utils.cc:38] TF-TRT Warning: Could not find TensorRT\n",
      "n_params: 9736305\n",
      "SEED0: datamount/weights/cfg_2/fold-1/checkpoint_last_seed502430.pth\n",
      "n_params: 9736305\n",
      "SEED1: datamount/weights/cfg_2/fold-1/checkpoint_last_seed512376.pth\n",
      "2023-09-20 10:52:11.351534: I tensorflow/compiler/xla/stream_executor/cuda/cuda_gpu_executor.cc:996] successful NUMA node read from SysFS had negative value (-1), but there must be at least one NUMA node, so returning NUMA node zero. See more at https://github.com/torvalds/linux/blob/v6.0/Documentation/ABI/testing/sysfs-bus-pci#L344-L355\n",
      "2023-09-20 10:52:11.352376: I tensorflow/compiler/xla/stream_executor/cuda/cuda_gpu_executor.cc:996] successful NUMA node read from SysFS had negative value (-1), but there must be at least one NUMA node, so returning NUMA node zero. See more at https://github.com/torvalds/linux/blob/v6.0/Documentation/ABI/testing/sysfs-bus-pci#L344-L355\n",
      "2023-09-20 10:52:11.352477: I tensorflow/compiler/xla/stream_executor/cuda/cuda_gpu_executor.cc:996] successful NUMA node read from SysFS had negative value (-1), but there must be at least one NUMA node, so returning NUMA node zero. See more at https://github.com/torvalds/linux/blob/v6.0/Documentation/ABI/testing/sysfs-bus-pci#L344-L355\n",
      "2023-09-20 10:52:11.353861: I tensorflow/compiler/xla/stream_executor/cuda/cuda_gpu_executor.cc:996] successful NUMA node read from SysFS had negative value (-1), but there must be at least one NUMA node, so returning NUMA node zero. See more at https://github.com/torvalds/linux/blob/v6.0/Documentation/ABI/testing/sysfs-bus-pci#L344-L355\n",
      "2023-09-20 10:52:11.353967: I tensorflow/compiler/xla/stream_executor/cuda/cuda_gpu_executor.cc:996] successful NUMA node read from SysFS had negative value (-1), but there must be at least one NUMA node, so returning NUMA node zero. See more at https://github.com/torvalds/linux/blob/v6.0/Documentation/ABI/testing/sysfs-bus-pci#L344-L355\n",
      "2023-09-20 10:52:11.354059: I tensorflow/compiler/xla/stream_executor/cuda/cuda_gpu_executor.cc:996] successful NUMA node read from SysFS had negative value (-1), but there must be at least one NUMA node, so returning NUMA node zero. See more at https://github.com/torvalds/linux/blob/v6.0/Documentation/ABI/testing/sysfs-bus-pci#L344-L355\n",
      "2023-09-20 10:52:12.075551: I tensorflow/compiler/xla/stream_executor/cuda/cuda_gpu_executor.cc:996] successful NUMA node read from SysFS had negative value (-1), but there must be at least one NUMA node, so returning NUMA node zero. See more at https://github.com/torvalds/linux/blob/v6.0/Documentation/ABI/testing/sysfs-bus-pci#L344-L355\n",
      "2023-09-20 10:52:12.075701: I tensorflow/compiler/xla/stream_executor/cuda/cuda_gpu_executor.cc:996] successful NUMA node read from SysFS had negative value (-1), but there must be at least one NUMA node, so returning NUMA node zero. See more at https://github.com/torvalds/linux/blob/v6.0/Documentation/ABI/testing/sysfs-bus-pci#L344-L355\n",
      "2023-09-20 10:52:12.075806: I tensorflow/compiler/xla/stream_executor/cuda/cuda_gpu_executor.cc:996] successful NUMA node read from SysFS had negative value (-1), but there must be at least one NUMA node, so returning NUMA node zero. See more at https://github.com/torvalds/linux/blob/v6.0/Documentation/ABI/testing/sysfs-bus-pci#L344-L355\n",
      "2023-09-20 10:52:12.075926: I tensorflow/core/common_runtime/gpu/gpu_device.cc:1635] Created device /job:localhost/replica:0/task:0/device:GPU:0 with 4260 MB memory:  -> device: 0, name: NVIDIA GeForce RTX 3050, pci bus id: 0000:01:00.0, compute capability: 8.6\n",
      "transfering feature extractor done\n",
      "transfering encoder done\n",
      "transfering decoder blocks done\n",
      "transfering decoder done\n",
      "transfering aux weights done\n",
      "building of final ensemble model  done\n",
      "WARNING:tensorflow:Skipping full serialization of Keras layer <keras.layers.regularization.dropout.Dropout object at 0x7f3f2d7ea100>, because it is not built.\n",
      "WARNING:tensorflow:Skipping full serialization of Keras layer <keras.layers.regularization.dropout.Dropout object at 0x7f3f2cff7430>, because it is not built.\n",
      "2023-09-20 10:53:30.010244: I tensorflow/core/common_runtime/executor.cc:1197] [/device:CPU:0] (DEBUG INFO) Executor start aborting (this does not indicate an error and you can ignore this message): INVALID_ARGUMENT: You must feed a value for placeholder tensor 'input_19' with dtype float and shape [?,?,208]\n",
      "\t [[{{node input_19}}]]\n",
      "2023-09-20 10:53:30.014888: I tensorflow/core/common_runtime/executor.cc:1197] [/device:CPU:0] (DEBUG INFO) Executor start aborting (this does not indicate an error and you can ignore this message): INVALID_ARGUMENT: You must feed a value for placeholder tensor 'input_19' with dtype float and shape [?,?,208]\n",
      "\t [[{{node input_19}}]]\n",
      "2023-09-20 10:53:30.020343: I tensorflow/core/common_runtime/executor.cc:1197] [/device:CPU:0] (DEBUG INFO) Executor start aborting (this does not indicate an error and you can ignore this message): INVALID_ARGUMENT: You must feed a value for placeholder tensor 'inputs' with dtype float and shape [?,?,208]\n",
      "\t [[{{node inputs}}]]\n",
      "2023-09-20 10:53:30.023385: I tensorflow/core/common_runtime/executor.cc:1197] [/device:CPU:0] (DEBUG INFO) Executor start aborting (this does not indicate an error and you can ignore this message): INVALID_ARGUMENT: You must feed a value for placeholder tensor 'input_19' with dtype float and shape [?,?,208]\n",
      "\t [[{{node input_19}}]]\n",
      "2023-09-20 10:53:30.028936: I tensorflow/core/common_runtime/executor.cc:1197] [/device:CPU:0] (DEBUG INFO) Executor start aborting (this does not indicate an error and you can ignore this message): INVALID_ARGUMENT: You must feed a value for placeholder tensor 'inputs' with dtype float and shape [?,?,208]\n",
      "\t [[{{node inputs}}]]\n",
      "2023-09-20 10:53:30.031997: I tensorflow/core/common_runtime/executor.cc:1197] [/device:CPU:0] (DEBUG INFO) Executor start aborting (this does not indicate an error and you can ignore this message): INVALID_ARGUMENT: You must feed a value for placeholder tensor 'input_19' with dtype float and shape [?,?,208]\n",
      "\t [[{{node input_19}}]]\n",
      "2023-09-20 10:53:30.035990: I tensorflow/core/common_runtime/executor.cc:1197] [/device:CPU:0] (DEBUG INFO) Executor start aborting (this does not indicate an error and you can ignore this message): INVALID_ARGUMENT: You must feed a value for placeholder tensor 'inputs' with dtype float and shape [?,?,208]\n",
      "\t [[{{node inputs}}]]\n",
      "2023-09-20 10:53:30.041525: I tensorflow/core/common_runtime/executor.cc:1197] [/device:CPU:0] (DEBUG INFO) Executor start aborting (this does not indicate an error and you can ignore this message): INVALID_ARGUMENT: You must feed a value for placeholder tensor 'inputs' with dtype float and shape [?,?,208]\n",
      "\t [[{{node inputs}}]]\n",
      "2023-09-20 10:53:30.045818: I tensorflow/core/common_runtime/executor.cc:1197] [/device:CPU:0] (DEBUG INFO) Executor start aborting (this does not indicate an error and you can ignore this message): INVALID_ARGUMENT: You must feed a value for placeholder tensor 'inputs' with dtype float and shape [?,?,208]\n",
      "\t [[{{node inputs}}]]\n",
      "2023-09-20 10:53:30.071761: I tensorflow/core/common_runtime/executor.cc:1197] [/device:CPU:0] (DEBUG INFO) Executor start aborting (this does not indicate an error and you can ignore this message): INVALID_ARGUMENT: You must feed a value for placeholder tensor 'input_20' with dtype float and shape [?,?,208]\n",
      "\t [[{{node input_20}}]]\n",
      "2023-09-20 10:53:30.076448: I tensorflow/core/common_runtime/executor.cc:1197] [/device:CPU:0] (DEBUG INFO) Executor start aborting (this does not indicate an error and you can ignore this message): INVALID_ARGUMENT: You must feed a value for placeholder tensor 'input_20' with dtype float and shape [?,?,208]\n",
      "\t [[{{node input_20}}]]\n",
      "2023-09-20 10:53:30.081847: I tensorflow/core/common_runtime/executor.cc:1197] [/device:CPU:0] (DEBUG INFO) Executor start aborting (this does not indicate an error and you can ignore this message): INVALID_ARGUMENT: You must feed a value for placeholder tensor 'inputs' with dtype float and shape [?,?,208]\n",
      "\t [[{{node inputs}}]]\n",
      "2023-09-20 10:53:30.085047: I tensorflow/core/common_runtime/executor.cc:1197] [/device:CPU:0] (DEBUG INFO) Executor start aborting (this does not indicate an error and you can ignore this message): INVALID_ARGUMENT: You must feed a value for placeholder tensor 'input_20' with dtype float and shape [?,?,208]\n",
      "\t [[{{node input_20}}]]\n",
      "2023-09-20 10:53:30.090548: I tensorflow/core/common_runtime/executor.cc:1197] [/device:CPU:0] (DEBUG INFO) Executor start aborting (this does not indicate an error and you can ignore this message): INVALID_ARGUMENT: You must feed a value for placeholder tensor 'inputs' with dtype float and shape [?,?,208]\n",
      "\t [[{{node inputs}}]]\n",
      "2023-09-20 10:53:30.094287: I tensorflow/core/common_runtime/executor.cc:1197] [/device:CPU:0] (DEBUG INFO) Executor start aborting (this does not indicate an error and you can ignore this message): INVALID_ARGUMENT: You must feed a value for placeholder tensor 'input_20' with dtype float and shape [?,?,208]\n",
      "\t [[{{node input_20}}]]\n",
      "2023-09-20 10:53:30.099098: I tensorflow/core/common_runtime/executor.cc:1197] [/device:CPU:0] (DEBUG INFO) Executor start aborting (this does not indicate an error and you can ignore this message): INVALID_ARGUMENT: You must feed a value for placeholder tensor 'inputs' with dtype float and shape [?,?,208]\n",
      "\t [[{{node inputs}}]]\n"
     ]
    },
    {
     "name": "stdout",
     "output_type": "stream",
     "text": [
      "2023-09-20 10:53:30.104675: I tensorflow/core/common_runtime/executor.cc:1197] [/device:CPU:0] (DEBUG INFO) Executor start aborting (this does not indicate an error and you can ignore this message): INVALID_ARGUMENT: You must feed a value for placeholder tensor 'inputs' with dtype float and shape [?,?,208]\n",
      "\t [[{{node inputs}}]]\n",
      "2023-09-20 10:53:30.109899: I tensorflow/core/common_runtime/executor.cc:1197] [/device:CPU:0] (DEBUG INFO) Executor start aborting (this does not indicate an error and you can ignore this message): INVALID_ARGUMENT: You must feed a value for placeholder tensor 'inputs' with dtype float and shape [?,?,208]\n",
      "\t [[{{node inputs}}]]\n",
      "2023-09-20 10:53:45.540844: I tensorflow/core/common_runtime/executor.cc:1197] [/device:CPU:0] (DEBUG INFO) Executor start aborting (this does not indicate an error and you can ignore this message): INVALID_ARGUMENT: You must feed a value for placeholder tensor 'inputs' with dtype float and shape [?,?,208]\n",
      "\t [[{{node inputs}}]]\n",
      "2023-09-20 10:53:45.545441: I tensorflow/core/common_runtime/executor.cc:1197] [/device:CPU:0] (DEBUG INFO) Executor start aborting (this does not indicate an error and you can ignore this message): INVALID_ARGUMENT: You must feed a value for placeholder tensor 'inputs' with dtype float and shape [?,?,208]\n",
      "\t [[{{node inputs}}]]\n",
      "2023-09-20 10:53:45.582793: I tensorflow/core/common_runtime/executor.cc:1197] [/device:CPU:0] (DEBUG INFO) Executor start aborting (this does not indicate an error and you can ignore this message): INVALID_ARGUMENT: You must feed a value for placeholder tensor 'inputs' with dtype float and shape [?,?,208]\n",
      "\t [[{{node inputs}}]]\n",
      "2023-09-20 10:53:45.587310: I tensorflow/core/common_runtime/executor.cc:1197] [/device:CPU:0] (DEBUG INFO) Executor start aborting (this does not indicate an error and you can ignore this message): INVALID_ARGUMENT: You must feed a value for placeholder tensor 'inputs' with dtype float and shape [?,?,208]\n",
      "\t [[{{node inputs}}]]\n",
      "2023-09-20 10:54:00.538794: I tensorflow/core/common_runtime/executor.cc:1197] [/device:CPU:0] (DEBUG INFO) Executor start aborting (this does not indicate an error and you can ignore this message): INVALID_ARGUMENT: You must feed a value for placeholder tensor 'inputs' with dtype float and shape [?,?,208]\n",
      "\t [[{{node inputs}}]]\n",
      "2023-09-20 10:54:00.556128: I tensorflow/core/common_runtime/executor.cc:1197] [/device:CPU:0] (DEBUG INFO) Executor start aborting (this does not indicate an error and you can ignore this message): INVALID_ARGUMENT: You must feed a value for placeholder tensor 'inputs' with dtype float and shape [?,?,208]\n",
      "\t [[{{node inputs}}]]\n",
      "WARNING:absl:Found untraced functions such as preprocessing_tf_1_layer_call_fn, preprocessing_tf_1_layer_call_and_return_conditional_losses, tf_speech2_text_decoder2_layer_call_fn, tf_speech2_text_decoder2_layer_call_and_return_conditional_losses, lm_head_layer_call_fn while saving (showing 5 of 1884). These functions will not be directly callable after loading.\n",
      "2023-09-20 10:56:15.967856: W tensorflow/compiler/mlir/lite/python/tf_tfl_flatbuffer_helpers.cc:364] Ignored output_format.\n",
      "2023-09-20 10:56:15.967882: W tensorflow/compiler/mlir/lite/python/tf_tfl_flatbuffer_helpers.cc:367] Ignored drop_control_dependency.\n",
      "2023-09-20 10:56:15.968495: I tensorflow/cc/saved_model/reader.cc:45] Reading SavedModel from: datamount/weights/cfg_2/fold-1/tflite_model.tfl.path\n",
      "2023-09-20 10:56:16.362069: I tensorflow/cc/saved_model/reader.cc:89] Reading meta graph with tags { serve }\n",
      "2023-09-20 10:56:16.362101: I tensorflow/cc/saved_model/reader.cc:130] Reading SavedModel debug info (if present) from: datamount/weights/cfg_2/fold-1/tflite_model.tfl.path\n",
      "2023-09-20 10:56:17.426764: I tensorflow/compiler/mlir/mlir_graph_optimization_pass.cc:353] MLIR V1 optimization pass is not enabled\n",
      "2023-09-20 10:56:17.628193: I tensorflow/cc/saved_model/loader.cc:231] Restoring SavedModel bundle.\n",
      "2023-09-20 10:56:22.045876: I tensorflow/cc/saved_model/loader.cc:215] Running initialization op on SavedModel bundle at path: datamount/weights/cfg_2/fold-1/tflite_model.tfl.path\n",
      "2023-09-20 10:56:25.063973: I tensorflow/cc/saved_model/loader.cc:314] SavedModel load for tags { serve }; Status: success: OK. Took 9095479 microseconds.\n",
      "2023-09-20 10:56:31.772322: I tensorflow/compiler/mlir/tensorflow/utils/dump_mlir_util.cc:269] disabling MLIR crash reproducer, set env var `MLIR_CRASH_REPRODUCER_DIRECTORY` to enable.\n",
      "final model saved under => \n",
      "datamount/weights/cfg_2/fold-1/model.tflite\n",
      "datamount/weights/cfg_2/fold-1/inference_args.json\n"
     ]
    }
   ],
   "source": [
    "!python scripts/convert_cfg_2_to_tf_lite.py "
   ]
  },
  {
   "cell_type": "code",
   "execution_count": null,
   "id": "6a06a477",
   "metadata": {},
   "outputs": [],
   "source": []
  },
  {
   "cell_type": "code",
   "execution_count": null,
   "id": "4f2b5aa8",
   "metadata": {},
   "outputs": [],
   "source": []
  },
  {
   "cell_type": "code",
   "execution_count": null,
   "id": "e8a3a99e",
   "metadata": {},
   "outputs": [],
   "source": []
  }
 ],
 "metadata": {
  "kernelspec": {
   "display_name": "Python 3 (ipykernel)",
   "language": "python",
   "name": "python3"
  },
  "language_info": {
   "codemirror_mode": {
    "name": "ipython",
    "version": 3
   },
   "file_extension": ".py",
   "mimetype": "text/x-python",
   "name": "python",
   "nbconvert_exporter": "python",
   "pygments_lexer": "ipython3",
   "version": "3.8.17"
  }
 },
 "nbformat": 4,
 "nbformat_minor": 5
}
