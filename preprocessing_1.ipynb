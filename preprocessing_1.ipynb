{
 "cells": [
  {
   "cell_type": "code",
   "execution_count": 1,
   "metadata": {},
   "outputs": [],
   "source": [
    "# This file is a modified version of the original:\n",
    "# https://www.kaggle.com/code/darraghdog/asl-fingerspelling-preprocessing-train"
   ]
  },
  {
   "cell_type": "code",
   "execution_count": 2,
   "metadata": {
    "_cell_guid": "b1076dfc-b9ad-4769-8c92-a6c4dae69d19",
    "_uuid": "8f2839f25d086af736a60e9eeb907d3b93b6e0e5",
    "execution": {
     "iopub.execute_input": "2023-09-10T01:40:13.923353Z",
     "iopub.status.busy": "2023-09-10T01:40:13.922931Z",
     "iopub.status.idle": "2023-09-10T01:40:13.957199Z",
     "shell.execute_reply": "2023-09-10T01:40:13.956063Z",
     "shell.execute_reply.started": "2023-09-10T01:40:13.923318Z"
    }
   },
   "outputs": [],
   "source": [
    "from tqdm import tqdm\n",
    "import multiprocessing as mp\n",
    "import pandas as pd\n",
    "import numpy as np\n",
    "import os\n",
    "import shutil\n",
    "import argparse\n",
    "import json"
   ]
  },
  {
   "cell_type": "code",
   "execution_count": 3,
   "metadata": {
    "execution": {
     "iopub.execute_input": "2023-09-10T01:40:13.959392Z",
     "iopub.status.busy": "2023-09-10T01:40:13.959042Z",
     "iopub.status.idle": "2023-09-10T01:40:13.964336Z",
     "shell.execute_reply": "2023-09-10T01:40:13.963081Z",
     "shell.execute_reply.started": "2023-09-10T01:40:13.959363Z"
    }
   },
   "outputs": [],
   "source": [
    "class args:\n",
    "    input_dir='/kaggle/input/asl-fingerspelling/train_landmarks'\n",
    "    output_dir='./train_landmarks_npy/'\n",
    "    n_cores=4\n",
    "    train_df='/kaggle/input/asl-fingerspelling/train.csv'"
   ]
  },
  {
   "cell_type": "code",
   "execution_count": 5,
   "metadata": {
    "execution": {
     "iopub.execute_input": "2023-09-10T01:40:40.646743Z",
     "iopub.status.busy": "2023-09-10T01:40:40.646342Z",
     "iopub.status.idle": "2023-09-10T01:40:40.763177Z",
     "shell.execute_reply": "2023-09-10T01:40:40.761838Z",
     "shell.execute_reply.started": "2023-09-10T01:40:40.646712Z"
    }
   },
   "outputs": [],
   "source": [
    "train = pd.read_csv(args.train_df)\n",
    "# train.head() => \n",
    "#   \tpath                            \tfile_id \tsequence_id \tparticipant_id  \tphrase\n",
    "# 0 \ttrain_landmarks/5414471.parquet \t5414471 \t1816796431  \t217             \t3 creekhouse\n",
    "# 1 \ttrain_landmarks/5414471.parquet \t5414471 \t1816825349  \t107             \tscales/kuhaylah\n",
    "# 2 \ttrain_landmarks/5414471.parquet \t5414471 \t1816909464  \t1               \t1383 william lanier\n",
    "# 3 \ttrain_landmarks/5414471.parquet \t5414471 \t1816967051  \t63              \t988 franklin lane\n",
    "# 4 \ttrain_landmarks/5414471.parquet \t5414471 \t1817123330  \t89              \t6920 northeast 661st road"
   ]
  },
  {
   "cell_type": "code",
   "execution_count": null,
   "metadata": {},
   "outputs": [],
   "source": []
  },
  {
   "cell_type": "code",
   "execution_count": null,
   "metadata": {},
   "outputs": [],
   "source": []
  },
  {
   "cell_type": "code",
   "execution_count": null,
   "metadata": {
    "execution": {
     "iopub.execute_input": "2023-09-10T01:43:18.917196Z",
     "iopub.status.busy": "2023-09-10T01:43:18.916733Z",
     "iopub.status.idle": "2023-09-10T01:43:18.937549Z",
     "shell.execute_reply": "2023-09-10T01:43:18.936574Z",
     "shell.execute_reply.started": "2023-09-10T01:43:18.917163Z"
    }
   },
   "outputs": [],
   "source": [
    "\n",
    "# train_cols in right order\n",
    "all_cols = [f'face_{i}' for i in range(468)] \n",
    "all_cols += [f'left_hand_{i}' for i in range(21)] \n",
    "all_cols += [f'pose_{i}' for i in range(33)]\n",
    "all_cols += [f'right_hand_{i}' for i in range(21)]\n",
    "all_cols = np.array(all_cols)\n",
    "\n",
    "\n",
    "# kept landmarks\n",
    "\n",
    "NOSE=[\n",
    "    1,2,98,327\n",
    "]\n",
    "LNOSE = [98]\n",
    "RNOSE = [327]\n",
    "LIP = [ 0, \n",
    "    61, 185, 40, 39, 37, 267, 269, 270, 409,\n",
    "    291, 146, 91, 181, 84, 17, 314, 405, 321, 375,\n",
    "    78, 191, 80, 81, 82, 13, 312, 311, 310, 415,\n",
    "    95, 88, 178, 87, 14, 317, 402, 318, 324, 308,\n",
    "]\n",
    "LLIP = [84,181,91,146,61,185,40,39,37,87,178,88,95,78,191,80,81,82]\n",
    "RLIP = [314,405,321,375,291,409,270,269,267,317,402,318,324,308,415,310,311,312]\n",
    "\n",
    "POSE = [500, 502, 504, 501, 503, 505, 512, 513]\n",
    "LPOSE = [513,505,503,501]\n",
    "RPOSE = [512,504,502,500]\n",
    "\n",
    "LARMS = [501, 503, 505, 507, 509, 511]\n",
    "RARMS = [500, 502, 504, 506, 508, 510]\n",
    "\n",
    "REYE = [\n",
    "    33, 7, 163, 144, 145, 153, 154, 155, 133,\n",
    "    246, 161, 160, 159, 158, 157, 173,\n",
    "]\n",
    "LEYE = [\n",
    "    263, 249, 390, 373, 374, 380, 381, 382, 362,\n",
    "    466, 388, 387, 386, 385, 384, 398,\n",
    "]\n",
    "\n",
    "LHAND = np.arange(468, 489).tolist()\n",
    "RHAND = np.arange(522, 543).tolist()\n",
    "\n",
    "# len(LIP), len(LHAND), len(RHAND), len(NOSE), len(REYE), len(LEYE), len(LARMS), len(RARMS)) => \n",
    "# 40, 21, 21, 4, 16, 16, 6, 6\n",
    "POINT_LANDMARKS = LIP + LHAND + RHAND + NOSE + REYE + LEYE + LARMS + RARMS\n",
    "# sorted(POINT_LANDMARKS) => [0, 1, 2, 7, 13, 14, 17, 33, 37, 39, 40, 61, 78, 80, 81, ..., 538, 539, 540, 541,542]\n",
    "\n",
    "# len(all_cols) => 543\n",
    "kept_cols = all_cols[POINT_LANDMARKS]\n",
    "\n",
    "n_landmarks = len(kept_cols)\n",
    "# n_landmarks => 130\n",
    "\n",
    "kept_cols_xyz = np.array(['x_' + c for c in kept_cols] + ['y_' + c for c in kept_cols] + ['z_' + c for c in kept_cols])\n",
    "\n",
    "\n",
    "TARGET_FOLDER = args.output_dir\n",
    "\n",
    "file_ids = train['file_id'].unique()"
   ]
  },
  {
   "cell_type": "code",
   "execution_count": null,
   "metadata": {},
   "outputs": [],
   "source": []
  },
  {
   "cell_type": "code",
   "execution_count": 6,
   "metadata": {
    "execution": {
     "iopub.execute_input": "2023-09-10T01:47:39.218894Z",
     "iopub.status.busy": "2023-09-10T01:47:39.218378Z",
     "iopub.status.idle": "2023-09-10T01:47:39.227746Z",
     "shell.execute_reply": "2023-09-10T01:47:39.226286Z",
     "shell.execute_reply.started": "2023-09-10T01:47:39.218853Z"
    }
   },
   "outputs": [
    {
     "data": {
      "text/plain": [
       "array([   5414471,  105143404,  128822441,  149822653,  152029243,\n",
       "        169560558,  175396851,  234418913,  296317215,  349393104,\n",
       "        388576474,  425182931,  433948159,  450474571,  474255203,\n",
       "        495378749,  522550314,  527708222,  532011803,  546816846,\n",
       "        566963657,  568753759,  614661748,  638508439,  649779897,\n",
       "        654436541,  683666742,  871280215,  882979387,  933868835,\n",
       "        939623093, 1019715464, 1021040628, 1098899348, 1099408314,\n",
       "       1133664520, 1134756332, 1255240050, 1320204318, 1341528257,\n",
       "       1358493307, 1365275733, 1365772051, 1405046009, 1448136004,\n",
       "       1497621680, 1552432300, 1557244878, 1562234637, 1643479812,\n",
       "       1647220008, 1662742697, 1664666588, 1726141437, 1785039512,\n",
       "       1865557033, 1880177496, 1905462118, 1906357076, 1920330615,\n",
       "       1967755728, 1969985709, 1997878546, 2026717426, 2036580525,\n",
       "       2072296290, 2072876091, 2118949241])"
      ]
     },
     "execution_count": 6,
     "metadata": {},
     "output_type": "execute_result"
    }
   ],
   "source": [
    "# len(file_ids) => 68\n",
    "file_ids"
   ]
  },
  {
   "cell_type": "code",
   "execution_count": 14,
   "metadata": {
    "execution": {
     "iopub.execute_input": "2023-09-10T01:52:31.265467Z",
     "iopub.status.busy": "2023-09-10T01:52:31.264056Z",
     "iopub.status.idle": "2023-09-10T01:52:31.272958Z",
     "shell.execute_reply": "2023-09-10T01:52:31.271971Z",
     "shell.execute_reply.started": "2023-09-10T01:52:31.265409Z"
    }
   },
   "outputs": [],
   "source": [
    "def do_one(file_id):\n",
    "    os.makedirs(TARGET_FOLDER + f'{file_id}/', exist_ok=True)\n",
    "    df = pd.read_parquet(f'{args.input_dir}/{file_id}.parquet').reset_index()\n",
    "    # df.columns => \n",
    "    # Index(['sequence_id', 'frame', 'x_face_0', 'x_face_1', 'x_face_2', 'x_face_3',\n",
    "    #        'x_face_4', 'x_face_5', 'x_face_6', 'x_face_7',\n",
    "    #        ...\n",
    "    #        'z_right_hand_17', 'z_right_hand_18', 'z_right_hand_19',\n",
    "    #        'z_right_hand_20'],\n",
    "    #       dtype='object', length=1631)    \n",
    "    \n",
    "    sequence_ids = df['sequence_id'].unique()\n",
    "    for sequence_id in sequence_ids:\n",
    "        df_seq = df[df['sequence_id']==sequence_id].copy()\n",
    "        vals = df_seq[kept_cols_xyz].values\n",
    "        # print(vals.shape) => (x, 390)                    (for all loops) (130*3 = 390)\n",
    "        np.save(TARGET_FOLDER + f'{file_id}/{sequence_id}.npy',vals)"
   ]
  },
  {
   "cell_type": "code",
   "execution_count": 6,
   "metadata": {
    "execution": {
     "iopub.execute_input": "2023-09-10T01:49:12.489286Z",
     "iopub.status.busy": "2023-09-10T01:49:12.488874Z",
     "iopub.status.idle": "2023-09-10T01:49:18.533081Z",
     "shell.execute_reply": "2023-09-10T01:49:18.531857Z",
     "shell.execute_reply.started": "2023-09-10T01:49:12.489251Z"
    }
   },
   "outputs": [],
   "source": [
    "# do_one(5414471)"
   ]
  },
  {
   "cell_type": "code",
   "execution_count": 12,
   "metadata": {
    "execution": {
     "iopub.execute_input": "2023-09-10T01:52:04.014334Z",
     "iopub.status.busy": "2023-09-10T01:52:04.013843Z",
     "iopub.status.idle": "2023-09-10T01:52:04.019716Z",
     "shell.execute_reply": "2023-09-10T01:52:04.018875Z",
     "shell.execute_reply.started": "2023-09-10T01:52:04.014281Z"
    }
   },
   "outputs": [],
   "source": [
    "if not os.path.exists(args.output_dir):\n",
    "    os.makedirs(args.output_dir)\n",
    "#shutil.copy(args.train_df, args.output_dir + '../')\n",
    "#shutil.copy('/kaggle/input/asl-fingerspelling/character_to_prediction_index.json', args.output_dir + '../')"
   ]
  },
  {
   "cell_type": "code",
   "execution_count": 15,
   "metadata": {
    "execution": {
     "iopub.execute_input": "2023-09-10T01:52:34.158452Z",
     "iopub.status.busy": "2023-09-10T01:52:34.158059Z",
     "iopub.status.idle": "2023-09-10T01:53:11.805152Z",
     "shell.execute_reply": "2023-09-10T01:53:11.803110Z",
     "shell.execute_reply.started": "2023-09-10T01:52:34.158422Z"
    }
   },
   "outputs": [
    {
     "name": "stderr",
     "output_type": "stream",
     "text": [
      "  0%|          | 0/68 [00:36<?, ?it/s]\n"
     ]
    },
    {
     "ename": "KeyboardInterrupt",
     "evalue": "",
     "output_type": "error",
     "traceback": [
      "\u001b[0;31m---------------------------------------------------------------------------\u001b[0m",
      "\u001b[0;31mIndexError\u001b[0m                                Traceback (most recent call last)",
      "File \u001b[0;32m/opt/conda/lib/python3.10/multiprocessing/pool.py:856\u001b[0m, in \u001b[0;36mIMapIterator.next\u001b[0;34m(self, timeout)\u001b[0m\n\u001b[1;32m    855\u001b[0m \u001b[38;5;28;01mtry\u001b[39;00m:\n\u001b[0;32m--> 856\u001b[0m     item \u001b[38;5;241m=\u001b[39m \u001b[38;5;28;43mself\u001b[39;49m\u001b[38;5;241;43m.\u001b[39;49m\u001b[43m_items\u001b[49m\u001b[38;5;241;43m.\u001b[39;49m\u001b[43mpopleft\u001b[49m\u001b[43m(\u001b[49m\u001b[43m)\u001b[49m\n\u001b[1;32m    857\u001b[0m \u001b[38;5;28;01mexcept\u001b[39;00m \u001b[38;5;167;01mIndexError\u001b[39;00m:\n",
      "\u001b[0;31mIndexError\u001b[0m: pop from an empty deque",
      "\nDuring handling of the above exception, another exception occurred:\n",
      "\u001b[0;31mKeyboardInterrupt\u001b[0m                         Traceback (most recent call last)",
      "Cell \u001b[0;32mIn[15], line 3\u001b[0m\n\u001b[1;32m      1\u001b[0m \u001b[38;5;66;03m# multiprocessing.freeze_support()\u001b[39;00m\n\u001b[1;32m      2\u001b[0m \u001b[38;5;28;01mwith\u001b[39;00m mp\u001b[38;5;241m.\u001b[39mPool(args\u001b[38;5;241m.\u001b[39mn_cores) \u001b[38;5;28;01mas\u001b[39;00m p:\n\u001b[0;32m----> 3\u001b[0m     res \u001b[38;5;241m=\u001b[39m \u001b[38;5;28;43mlist\u001b[39;49m\u001b[43m(\u001b[49m\u001b[43mtqdm\u001b[49m\u001b[43m(\u001b[49m\u001b[43mp\u001b[49m\u001b[38;5;241;43m.\u001b[39;49m\u001b[43mimap\u001b[49m\u001b[43m(\u001b[49m\u001b[43mdo_one\u001b[49m\u001b[43m,\u001b[49m\u001b[43mfile_ids\u001b[49m\u001b[43m)\u001b[49m\u001b[43m,\u001b[49m\u001b[43m \u001b[49m\u001b[43mtotal\u001b[49m\u001b[38;5;241;43m=\u001b[39;49m\u001b[38;5;28;43mlen\u001b[39;49m\u001b[43m(\u001b[49m\u001b[43mfile_ids\u001b[49m\u001b[43m)\u001b[49m\u001b[43m)\u001b[49m\u001b[43m)\u001b[49m\n\u001b[1;32m      5\u001b[0m selected_columns_dict \u001b[38;5;241m=\u001b[39m {\u001b[38;5;124m\"\u001b[39m\u001b[38;5;124mselected_columns\u001b[39m\u001b[38;5;124m\"\u001b[39m: kept_cols_xyz\u001b[38;5;241m.\u001b[39mtolist()}\n\u001b[1;32m      7\u001b[0m \u001b[38;5;28;01mwith\u001b[39;00m \u001b[38;5;28mopen\u001b[39m(\u001b[38;5;124mf\u001b[39m\u001b[38;5;124m'\u001b[39m\u001b[38;5;132;01m{\u001b[39;00mTARGET_FOLDER\u001b[38;5;132;01m}\u001b[39;00m\u001b[38;5;124minference_args.json\u001b[39m\u001b[38;5;124m'\u001b[39m, \u001b[38;5;124m\"\u001b[39m\u001b[38;5;124mw\u001b[39m\u001b[38;5;124m\"\u001b[39m) \u001b[38;5;28;01mas\u001b[39;00m f:\n",
      "File \u001b[0;32m/opt/conda/lib/python3.10/site-packages/tqdm/std.py:1178\u001b[0m, in \u001b[0;36mtqdm.__iter__\u001b[0;34m(self)\u001b[0m\n\u001b[1;32m   1175\u001b[0m time \u001b[38;5;241m=\u001b[39m \u001b[38;5;28mself\u001b[39m\u001b[38;5;241m.\u001b[39m_time\n\u001b[1;32m   1177\u001b[0m \u001b[38;5;28;01mtry\u001b[39;00m:\n\u001b[0;32m-> 1178\u001b[0m     \u001b[38;5;28;01mfor\u001b[39;00m obj \u001b[38;5;129;01min\u001b[39;00m iterable:\n\u001b[1;32m   1179\u001b[0m         \u001b[38;5;28;01myield\u001b[39;00m obj\n\u001b[1;32m   1180\u001b[0m         \u001b[38;5;66;03m# Update and possibly print the progressbar.\u001b[39;00m\n\u001b[1;32m   1181\u001b[0m         \u001b[38;5;66;03m# Note: does not call self.update(1) for speed optimisation.\u001b[39;00m\n",
      "File \u001b[0;32m/opt/conda/lib/python3.10/multiprocessing/pool.py:861\u001b[0m, in \u001b[0;36mIMapIterator.next\u001b[0;34m(self, timeout)\u001b[0m\n\u001b[1;32m    859\u001b[0m     \u001b[38;5;28mself\u001b[39m\u001b[38;5;241m.\u001b[39m_pool \u001b[38;5;241m=\u001b[39m \u001b[38;5;28;01mNone\u001b[39;00m\n\u001b[1;32m    860\u001b[0m     \u001b[38;5;28;01mraise\u001b[39;00m \u001b[38;5;167;01mStopIteration\u001b[39;00m \u001b[38;5;28;01mfrom\u001b[39;00m \u001b[38;5;28;01mNone\u001b[39;00m\n\u001b[0;32m--> 861\u001b[0m \u001b[38;5;28;43mself\u001b[39;49m\u001b[38;5;241;43m.\u001b[39;49m\u001b[43m_cond\u001b[49m\u001b[38;5;241;43m.\u001b[39;49m\u001b[43mwait\u001b[49m\u001b[43m(\u001b[49m\u001b[43mtimeout\u001b[49m\u001b[43m)\u001b[49m\n\u001b[1;32m    862\u001b[0m \u001b[38;5;28;01mtry\u001b[39;00m:\n\u001b[1;32m    863\u001b[0m     item \u001b[38;5;241m=\u001b[39m \u001b[38;5;28mself\u001b[39m\u001b[38;5;241m.\u001b[39m_items\u001b[38;5;241m.\u001b[39mpopleft()\n",
      "File \u001b[0;32m/opt/conda/lib/python3.10/threading.py:320\u001b[0m, in \u001b[0;36mCondition.wait\u001b[0;34m(self, timeout)\u001b[0m\n\u001b[1;32m    318\u001b[0m \u001b[38;5;28;01mtry\u001b[39;00m:    \u001b[38;5;66;03m# restore state no matter what (e.g., KeyboardInterrupt)\u001b[39;00m\n\u001b[1;32m    319\u001b[0m     \u001b[38;5;28;01mif\u001b[39;00m timeout \u001b[38;5;129;01mis\u001b[39;00m \u001b[38;5;28;01mNone\u001b[39;00m:\n\u001b[0;32m--> 320\u001b[0m         \u001b[43mwaiter\u001b[49m\u001b[38;5;241;43m.\u001b[39;49m\u001b[43macquire\u001b[49m\u001b[43m(\u001b[49m\u001b[43m)\u001b[49m\n\u001b[1;32m    321\u001b[0m         gotit \u001b[38;5;241m=\u001b[39m \u001b[38;5;28;01mTrue\u001b[39;00m\n\u001b[1;32m    322\u001b[0m     \u001b[38;5;28;01melse\u001b[39;00m:\n",
      "\u001b[0;31mKeyboardInterrupt\u001b[0m: "
     ]
    }
   ],
   "source": [
    "# multiprocessing.freeze_support()\n",
    "with mp.Pool(args.n_cores) as p:\n",
    "    res = list(tqdm(p.imap(do_one,file_ids), total=len(file_ids)))\n",
    "\n",
    "selected_columns_dict = {\"selected_columns\": kept_cols_xyz.tolist()}\n",
    "\n",
    "with open(f'{TARGET_FOLDER}inference_args.json', \"w\") as f:\n",
    "    json.dump(selected_columns_dict, f)\n",
    "\n",
    "np.save(TARGET_FOLDER + 'columns.npy',kept_cols_xyz)"
   ]
  },
  {
   "cell_type": "code",
   "execution_count": null,
   "metadata": {},
   "outputs": [],
   "source": []
  }
 ],
 "metadata": {
  "kernelspec": {
   "display_name": "Python 3 (ipykernel)",
   "language": "python",
   "name": "python3"
  },
  "language_info": {
   "codemirror_mode": {
    "name": "ipython",
    "version": 3
   },
   "file_extension": ".py",
   "mimetype": "text/x-python",
   "name": "python",
   "nbconvert_exporter": "python",
   "pygments_lexer": "ipython3",
   "version": "3.8.17"
  }
 },
 "nbformat": 4,
 "nbformat_minor": 4
}
