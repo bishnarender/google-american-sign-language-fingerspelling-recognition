{
 "cells": [
  {
   "cell_type": "code",
   "execution_count": 1,
   "id": "144f6437",
   "metadata": {
    "_cell_guid": "b1076dfc-b9ad-4769-8c92-a6c4dae69d19",
    "_uuid": "8f2839f25d086af736a60e9eeb907d3b93b6e0e5",
    "execution": {
     "iopub.execute_input": "2023-08-29T12:41:23.298194Z",
     "iopub.status.busy": "2023-08-29T12:41:23.297762Z",
     "iopub.status.idle": "2023-08-29T12:41:23.309777Z",
     "shell.execute_reply": "2023-08-29T12:41:23.308819Z"
    },
    "papermill": {
     "duration": 0.021442,
     "end_time": "2023-08-29T12:41:23.313102",
     "exception": false,
     "start_time": "2023-08-29T12:41:23.291660",
     "status": "completed"
    },
    "tags": []
   },
   "outputs": [],
   "source": [
    "from tqdm import tqdm\n",
    "import shutil\n",
    "import multiprocessing as mp\n",
    "import pandas as pd\n",
    "import numpy as np\n",
    "import os\n",
    "import argparse\n",
    "import json"
   ]
  },
  {
   "cell_type": "code",
   "execution_count": 2,
   "id": "02b12b95",
   "metadata": {
    "execution": {
     "iopub.execute_input": "2023-08-29T12:41:23.324382Z",
     "iopub.status.busy": "2023-08-29T12:41:23.323253Z",
     "iopub.status.idle": "2023-08-29T12:41:23.330405Z",
     "shell.execute_reply": "2023-08-29T12:41:23.329106Z"
    },
    "papermill": {
     "duration": 0.01606,
     "end_time": "2023-08-29T12:41:23.333546",
     "exception": false,
     "start_time": "2023-08-29T12:41:23.317486",
     "status": "completed"
    },
    "tags": []
   },
   "outputs": [],
   "source": [
    "class args:\n",
    "    input_dir='/kaggle/input/asl-fingerspelling/supplemental_landmarks'\n",
    "    output_dir='./supplemental_landmarks/'\n",
    "    n_cores=4\n",
    "    train_df='/kaggle/input/asl-fingerspelling/supplemental_metadata.csv'"
   ]
  },
  {
   "cell_type": "code",
   "execution_count": 3,
   "id": "a477b999",
   "metadata": {
    "execution": {
     "iopub.execute_input": "2023-08-29T12:41:23.342557Z",
     "iopub.status.busy": "2023-08-29T12:41:23.342161Z",
     "iopub.status.idle": "2023-08-29T12:41:23.519800Z",
     "shell.execute_reply": "2023-08-29T12:41:23.518843Z"
    },
    "papermill": {
     "duration": 0.185378,
     "end_time": "2023-08-29T12:41:23.522476",
     "exception": false,
     "start_time": "2023-08-29T12:41:23.337098",
     "status": "completed"
    },
    "tags": []
   },
   "outputs": [],
   "source": [
    "train = pd.read_csv(args.train_df)\n",
    "\n",
    "# train_cols in right order\n",
    "all_cols = [f'face_{i}' for i in range(468)] \n",
    "all_cols += [f'left_hand_{i}' for i in range(21)] \n",
    "all_cols += [f'pose_{i}' for i in range(33)]\n",
    "all_cols += [f'right_hand_{i}' for i in range(21)]\n",
    "all_cols = np.array(all_cols)\n",
    "\n",
    "\n",
    "#1st place kept landmarks\n",
    "\n",
    "NOSE=[\n",
    "    1,2,98,327\n",
    "]\n",
    "LNOSE = [98]\n",
    "RNOSE = [327]\n",
    "LIP = [ 0, \n",
    "    61, 185, 40, 39, 37, 267, 269, 270, 409,\n",
    "    291, 146, 91, 181, 84, 17, 314, 405, 321, 375,\n",
    "    78, 191, 80, 81, 82, 13, 312, 311, 310, 415,\n",
    "    95, 88, 178, 87, 14, 317, 402, 318, 324, 308,\n",
    "]\n",
    "LLIP = [84,181,91,146,61,185,40,39,37,87,178,88,95,78,191,80,81,82]\n",
    "RLIP = [314,405,321,375,291,409,270,269,267,317,402,318,324,308,415,310,311,312]\n",
    "\n",
    "POSE = [500, 502, 504, 501, 503, 505, 512, 513]\n",
    "LPOSE = [513,505,503,501]\n",
    "RPOSE = [512,504,502,500]\n",
    "\n",
    "LARMS = [501, 503, 505, 507, 509, 511]\n",
    "RARMS = [500, 502, 504, 506, 508, 510]\n",
    "\n",
    "REYE = [\n",
    "    33, 7, 163, 144, 145, 153, 154, 155, 133,\n",
    "    246, 161, 160, 159, 158, 157, 173,\n",
    "]\n",
    "LEYE = [\n",
    "    263, 249, 390, 373, 374, 380, 381, 382, 362,\n",
    "    466, 388, 387, 386, 385, 384, 398,\n",
    "]\n",
    "\n",
    "LHAND = np.arange(468, 489).tolist()\n",
    "RHAND = np.arange(522, 543).tolist()\n",
    "\n",
    "POINT_LANDMARKS = LIP + LHAND + RHAND + NOSE + REYE + LEYE + LARMS + RARMS\n",
    "\n",
    "kept_cols = all_cols[POINT_LANDMARKS]\n",
    "n_landmarks = len(kept_cols)\n",
    "\n",
    "kept_cols_xyz = np.array(['x_' + c for c in kept_cols] + ['y_' + c for c in kept_cols] + ['z_' + c for c in kept_cols])\n",
    "\n",
    "\n",
    "TARGET_FOLDER = args.output_dir\n",
    "\n",
    "file_ids = train['file_id'].unique()"
   ]
  },
  {
   "cell_type": "code",
   "execution_count": 4,
   "id": "c858b360",
   "metadata": {
    "execution": {
     "iopub.execute_input": "2023-08-29T12:41:23.531657Z",
     "iopub.status.busy": "2023-08-29T12:41:23.531002Z",
     "iopub.status.idle": "2023-08-29T12:41:23.538146Z",
     "shell.execute_reply": "2023-08-29T12:41:23.537113Z"
    },
    "papermill": {
     "duration": 0.015782,
     "end_time": "2023-08-29T12:41:23.541727",
     "exception": false,
     "start_time": "2023-08-29T12:41:23.525945",
     "status": "completed"
    },
    "tags": []
   },
   "outputs": [],
   "source": [
    "def do_one(file_id):\n",
    "    os.makedirs(TARGET_FOLDER + f'{file_id}/', exist_ok=True)\n",
    "    df = pd.read_parquet(f'{args.input_dir}/{file_id}.parquet').reset_index()\n",
    "    sequence_ids = df['sequence_id'].unique()\n",
    "    for sequence_id in sequence_ids:\n",
    "        df_seq = df[df['sequence_id']==sequence_id].copy()\n",
    "        vals = df_seq[kept_cols_xyz].values\n",
    "        np.save(TARGET_FOLDER + f'{file_id}/{sequence_id}.npy',vals)"
   ]
  },
  {
   "cell_type": "code",
   "execution_count": 5,
   "id": "ec7112c9",
   "metadata": {
    "execution": {
     "iopub.execute_input": "2023-08-29T12:41:23.550936Z",
     "iopub.status.busy": "2023-08-29T12:41:23.550220Z",
     "iopub.status.idle": "2023-08-29T12:41:23.555659Z",
     "shell.execute_reply": "2023-08-29T12:41:23.554278Z"
    },
    "papermill": {
     "duration": 0.013114,
     "end_time": "2023-08-29T12:41:23.558479",
     "exception": false,
     "start_time": "2023-08-29T12:41:23.545365",
     "status": "completed"
    },
    "tags": []
   },
   "outputs": [],
   "source": [
    "if not os.path.exists(args.output_dir):\n",
    "    os.makedirs(args.output_dir)\n",
    "#shutil.copy(args.train_df, args.output_dir + '../')\n",
    "#shutil.copy('/kaggle/input/asl-fingerspelling/character_to_prediction_index.json', args.output_dir + '../')"
   ]
  },
  {
   "cell_type": "code",
   "execution_count": 6,
   "id": "e64b4c93",
   "metadata": {
    "execution": {
     "iopub.execute_input": "2023-08-29T12:41:23.567245Z",
     "iopub.status.busy": "2023-08-29T12:41:23.566819Z",
     "iopub.status.idle": "2023-08-29T12:49:06.955253Z",
     "shell.execute_reply": "2023-08-29T12:49:06.953280Z"
    },
    "papermill": {
     "duration": 463.39656,
     "end_time": "2023-08-29T12:49:06.958589",
     "exception": false,
     "start_time": "2023-08-29T12:41:23.562029",
     "status": "completed"
    },
    "tags": []
   },
   "outputs": [
    {
     "name": "stderr",
     "output_type": "stream",
     "text": [
      "100%|██████████| 53/53 [07:42<00:00,  8.73s/it]\n"
     ]
    }
   ],
   "source": [
    "# multiprocessing.freeze_support()\n",
    "with mp.Pool(args.n_cores) as p:\n",
    "    res = list(tqdm(p.imap(do_one,file_ids), total=len(file_ids)))\n",
    "\n",
    "selected_columns_dict = {\"selected_columns\": kept_cols_xyz.tolist()}\n",
    "with open(f'{TARGET_FOLDER}inference_args.json', \"w\") as f:\n",
    "    json.dump(selected_columns_dict, f)\n",
    "\n",
    "\n",
    "np.save(TARGET_FOLDER + 'columns.npy',kept_cols_xyz)"
   ]
  },
  {
   "cell_type": "code",
   "execution_count": null,
   "id": "2a1c2455",
   "metadata": {
    "papermill": {
     "duration": 0.006306,
     "end_time": "2023-08-29T12:49:06.971755",
     "exception": false,
     "start_time": "2023-08-29T12:49:06.965449",
     "status": "completed"
    },
    "tags": []
   },
   "outputs": [],
   "source": []
  }
 ],
 "metadata": {
  "kernelspec": {
   "display_name": "Python 3",
   "language": "python",
   "name": "python3"
  },
  "language_info": {
   "codemirror_mode": {
    "name": "ipython",
    "version": 3
   },
   "file_extension": ".py",
   "mimetype": "text/x-python",
   "name": "python",
   "nbconvert_exporter": "python",
   "pygments_lexer": "ipython3",
   "version": "3.10.12"
  },
  "papermill": {
   "default_parameters": {},
   "duration": 480.013111,
   "end_time": "2023-08-29T12:49:08.308296",
   "environment_variables": {},
   "exception": null,
   "input_path": "__notebook__.ipynb",
   "output_path": "__notebook__.ipynb",
   "parameters": {},
   "start_time": "2023-08-29T12:41:08.295185",
   "version": "2.4.0"
  }
 },
 "nbformat": 4,
 "nbformat_minor": 5
}
